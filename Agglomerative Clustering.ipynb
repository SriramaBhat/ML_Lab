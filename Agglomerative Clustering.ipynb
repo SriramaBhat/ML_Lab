{
 "cells": [
  {
   "cell_type": "markdown",
   "id": "912be74f",
   "metadata": {},
   "source": [
    "# Agglomerative Clustering"
   ]
  },
  {
   "cell_type": "code",
   "execution_count": 2,
   "id": "eccbbc1f",
   "metadata": {},
   "outputs": [],
   "source": [
    "import numpy as np\n",
    "import pandas as pd\n",
    "import matplotlib.pyplot as plt\n",
    "from sklearn.metrics import pairwise_distances\n",
    "from scip y.cluster.hierarchy import dendrogram, linkage\n",
    "import sys"
   ]
  },
  {
   "cell_type": "code",
   "execution_count": 38,
   "id": "2e29be29",
   "metadata": {},
   "outputs": [],
   "source": [
    "def find_clusters(input_data, link):\n",
    "    row_index = -1\n",
    "    col_index = -1\n",
    "    clustering_order = []\n",
    "    \n",
    "    # Clustering n-1 times\n",
    "    for k in range(1, input_data.shape[0]):\n",
    "        min_val = sys.maxsize\n",
    "        \n",
    "        # Phase 1: Finding the minimum distance points\n",
    "        for i in range(0, input_data.shape[0]):\n",
    "            for j in range(0, input_data.shape[1]):\n",
    "                if(input_data[i][j]<=min_val):\n",
    "                    min_val = input_data[i][j]\n",
    "                    row_index = i\n",
    "                    col_index = j\n",
    "                    \n",
    "        clustering_order.append([row_index, col_index])\n",
    "        \n",
    "        # Phae 2: Updating proximity matrix\n",
    "        \n",
    "        for i in range(input_data.shape[0]):\n",
    "            if i != col_index and i != row_index:\n",
    "                if link == 1:\n",
    "                    temp = min(input_data[row_index][i], input_data[col_index][i])\n",
    "                else:\n",
    "                    temp = max(input_data[row_index][i], input_data[col_index][i])\n",
    "                input_data[col_index][i] = temp\n",
    "                input_data[i][col_index] = temp\n",
    "            \n",
    "            input_data[row_index][i] = input_data[i][row_index] = np.Inf\n",
    "        print(input_data)\n",
    "        print(\"+\"*50)\n",
    "        \n",
    "    print(\"=\"*50)\n",
    "    print(\"Clustering order is: \", clustering_order)\n",
    "    return clustering_order"
   ]
  },
  {
   "cell_type": "code",
   "execution_count": 39,
   "id": "6bbd2ef2",
   "metadata": {},
   "outputs": [],
   "source": [
    "def agglomerative_clustering(data, link=1):\n",
    "    initial_distances = pairwise_distances(data, metric=\"euclidean\")\n",
    "    np.fill_diagonal(initial_distances, np.Inf)\n",
    "    print(\"Proximity matrices: \")\n",
    "    print(initial_distances)\n",
    "    print(\"=\"*60)\n",
    "    clusters = find_clusters(initial_distances, link)\n",
    "    if link == 1:\n",
    "        Z = linkage(data, \"single\")\n",
    "    else:\n",
    "        Z = linkage(data, \"complete\")\n",
    "    fig, ax = plt.subplots(figsize=(10, 8))\n",
    "    dendrogram(Z)"
   ]
  },
  {
   "cell_type": "code",
   "execution_count": 40,
   "id": "1bdb53d9",
   "metadata": {},
   "outputs": [
    {
     "data": {
      "text/plain": [
       "array([[100., 200.],\n",
       "       [300., 400.],\n",
       "       [500., 250.],\n",
       "       [450., 500.],\n",
       "       [450., 750.]])"
      ]
     },
     "execution_count": 40,
     "metadata": {},
     "output_type": "execute_result"
    }
   ],
   "source": [
    "data = np.array([100., 200.,300., 400.,500., 250.,450., 500.,450., 750.]).reshape(5, 2)\n",
    "data"
   ]
  },
  {
   "cell_type": "code",
   "execution_count": 41,
   "id": "406efb6f",
   "metadata": {},
   "outputs": [
    {
     "name": "stdout",
     "output_type": "stream",
     "text": [
      "Proximity matrices: \n",
      "[[     inf 282.8427 403.1129 460.9772 651.9202]\n",
      " [282.8427      inf 250.     180.2776 380.7887]\n",
      " [403.1129 250.          inf 254.951  502.4938]\n",
      " [460.9772 180.2776 254.951       inf 250.    ]\n",
      " [651.9202 380.7887 502.4938 250.          inf]]\n",
      "============================================================\n",
      "[[     inf 282.8427 403.1129      inf 651.9202]\n",
      " [282.8427      inf 250.          inf 250.    ]\n",
      " [403.1129 250.          inf      inf 502.4938]\n",
      " [     inf      inf      inf      inf      inf]\n",
      " [651.9202 250.     502.4938      inf      inf]]\n",
      "++++++++++++++++++++++++++++++++++++++++++++++++++\n",
      "[[     inf 282.8427 403.1129      inf      inf]\n",
      " [282.8427      inf 250.          inf      inf]\n",
      " [403.1129 250.          inf      inf      inf]\n",
      " [     inf      inf      inf      inf      inf]\n",
      " [     inf      inf      inf      inf      inf]]\n",
      "++++++++++++++++++++++++++++++++++++++++++++++++++\n",
      "[[     inf 282.8427      inf      inf      inf]\n",
      " [282.8427      inf      inf      inf      inf]\n",
      " [     inf      inf      inf      inf      inf]\n",
      " [     inf      inf      inf      inf      inf]\n",
      " [     inf      inf      inf      inf      inf]]\n",
      "++++++++++++++++++++++++++++++++++++++++++++++++++\n",
      "[[inf inf inf inf inf]\n",
      " [inf inf inf inf inf]\n",
      " [inf inf inf inf inf]\n",
      " [inf inf inf inf inf]\n",
      " [inf inf inf inf inf]]\n",
      "++++++++++++++++++++++++++++++++++++++++++++++++++\n",
      "==================================================\n",
      "Clustering order is:  [[3, 1], [4, 1], [2, 1], [1, 0]]\n"
     ]
    },
    {
     "data": {
      "image/png": "[encoded data removed]",
      "text/plain": [
       "<Figure size 1000x800 with 1 Axes>"
      ]
     },
     "metadata": {},
     "output_type": "display_data"
    }
   ],
   "source": [
    "agglomerative_clustering(data, link=1)"
   ]
  },
  {
   "cell_type": "code",
   "execution_count": 42,
   "id": "154c86db",
   "metadata": {},
   "outputs": [
    {
     "name": "stdout",
     "output_type": "stream",
     "text": [
      "Proximity matrices: \n",
      "[[     inf 282.8427 403.1129 460.9772 651.9202]\n",
      " [282.8427      inf 250.     180.2776 380.7887]\n",
      " [403.1129 250.          inf 254.951  502.4938]\n",
      " [460.9772 180.2776 254.951       inf 250.    ]\n",
      " [651.9202 380.7887 502.4938 250.          inf]]\n",
      "============================================================\n",
      "[[     inf 460.9772 403.1129      inf 651.9202]\n",
      " [460.9772      inf 254.951       inf 380.7887]\n",
      " [403.1129 254.951       inf      inf 502.4938]\n",
      " [     inf      inf      inf      inf      inf]\n",
      " [651.9202 380.7887 502.4938      inf      inf]]\n",
      "++++++++++++++++++++++++++++++++++++++++++++++++++\n",
      "[[     inf 460.9772      inf      inf 651.9202]\n",
      " [460.9772      inf      inf      inf 502.4938]\n",
      " [     inf      inf      inf      inf      inf]\n",
      " [     inf      inf      inf      inf      inf]\n",
      " [651.9202 502.4938      inf      inf      inf]]\n",
      "++++++++++++++++++++++++++++++++++++++++++++++++++\n",
      "[[     inf      inf      inf      inf 651.9202]\n",
      " [     inf      inf      inf      inf      inf]\n",
      " [     inf      inf      inf      inf      inf]\n",
      " [     inf      inf      inf      inf      inf]\n",
      " [651.9202      inf      inf      inf      inf]]\n",
      "++++++++++++++++++++++++++++++++++++++++++++++++++\n",
      "[[inf inf inf inf inf]\n",
      " [inf inf inf inf inf]\n",
      " [inf inf inf inf inf]\n",
      " [inf inf inf inf inf]\n",
      " [inf inf inf inf inf]]\n",
      "++++++++++++++++++++++++++++++++++++++++++++++++++\n",
      "==================================================\n",
      "Clustering order is:  [[3, 1], [2, 1], [1, 0], [4, 0]]\n"
     ]
    },
    {
     "data": {
      "image/png": "[encoded data removed]",
      "text/plain": [
       "<Figure size 1000x800 with 1 Axes>"
      ]
     },
     "metadata": {},
     "output_type": "display_data"
    }
   ],
   "source": [
    "agglomerative_clustering(data, link=2)"
   ]
  },
  {
   "cell_type": "code",
   "execution_count": null,
   "id": "aa875f68",
   "metadata": {},
   "outputs": [],
   "source": []
  }
 ],
 "metadata": {
  "kernelspec": {
   "display_name": "Python 3 (ipykernel)",
   "language": "python",
   "name": "python3"
  },
  "language_info": {
   "codemirror_mode": {
    "name": "ipython",
    "version": 3
   },
   "file_extension": ".py",
   "mimetype": "text/x-python",
   "name": "python",
   "nbconvert_exporter": "python",
   "pygments_lexer": "ipython3",
   "version": "3.11.2"
  }
 },
 "nbformat": 4,
 "nbformat_minor": 5
}
